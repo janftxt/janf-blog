{
 "cells": [
  {
   "attachments": {},
   "cell_type": "markdown",
   "metadata": {},
   "source": [
    "---\n",
    "title: 'anaconda cheatsheet'\n",
    "description: 'anaconda cheatsheet'\n",
    "author: 'janf'\n",
    "date: '2023-06-30'\n",
    "categories: [cheatsheet]\n",
    "toc: true\n",
    "execute: \n",
    "  enabled: false\n",
    "format:\n",
    "  html:\n",
    "    code-copy: true\n",
    "---"
   ]
  },
  {
   "attachments": {},
   "cell_type": "markdown",
   "metadata": {},
   "source": [
    "## What is Anaconda\n",
    "\n",
    "Anaconda is a distribution of the Python for sientific computing (data sience, machine learning applications, large-scale data processing, predictive analytics, etc.), that aims to simplify package management and deployment.\n",
    "\n",
    "[Conda Documentation](https://docs.conda.io/projects/conda/en/latest/index.html)\n",
    "\n",
    "[Anaconda (Python distribution)](https://docs.conda.io/projects/conda/en/latest/index.html)"
   ]
  },
  {
   "attachments": {},
   "cell_type": "markdown",
   "metadata": {},
   "source": [
    "### Environments"
   ]
  },
  {
   "attachments": {},
   "cell_type": "markdown",
   "metadata": {},
   "source": [
    "#### List environments\n",
    "\n",
    "```sh\n",
    "conda env list\n",
    "```"
   ]
  },
  {
   "attachments": {},
   "cell_type": "markdown",
   "metadata": {},
   "source": [
    "#### Create environment with Python version x.x\n",
    "\n",
    "```sh\n",
    "conda create --name ENV_NAME python=x.x\n",
    "```"
   ]
  },
  {
   "attachments": {},
   "cell_type": "markdown",
   "metadata": {},
   "source": [
    "#### Create environment from environment.yml\n",
    "\n",
    "```sh\n",
    "conda enc create --file=environment.yml\n",
    "```"
   ]
  },
  {
   "attachments": {},
   "cell_type": "markdown",
   "metadata": {},
   "source": [
    "#### Activate / Deactivate environment\n",
    "\n",
    "```sh\n",
    "source activate ENV_Name\n",
    "```\n",
    "\n",
    "```sh\n",
    "source deactivate\n",
    "```"
   ]
  },
  {
   "attachments": {},
   "cell_type": "markdown",
   "metadata": {},
   "source": [
    "#### Delete environment\n",
    "\n",
    "```sh\n",
    "conda env remove --name ENV_NAME\n",
    "```"
   ]
  },
  {
   "attachments": {},
   "cell_type": "markdown",
   "metadata": {},
   "source": [
    "#### Create environment.yml from a running environment\n",
    "\n",
    "```sh\n",
    "conda env export > environment.yml\n",
    "```"
   ]
  },
  {
   "attachments": {},
   "cell_type": "markdown",
   "metadata": {},
   "source": [
    "#### Clone existing environment\n",
    "\n",
    "```\n",
    "conda create --clone ENV_NAME --name NEW_ENV_NAME\n",
    "```"
   ]
  },
  {
   "attachments": {},
   "cell_type": "markdown",
   "metadata": {},
   "source": [
    "### Packages"
   ]
  },
  {
   "attachments": {},
   "cell_type": "markdown",
   "metadata": {},
   "source": [
    "#### Search package\n",
    "\n",
    "```sh\n",
    "conda search PACKAGE_NAME\n",
    "```"
   ]
  },
  {
   "attachments": {},
   "cell_type": "markdown",
   "metadata": {},
   "source": [
    "#### Install package\n",
    "\n",
    "```sh\n",
    "conda install PACKAGE_NAME\n",
    "```\n",
    "\n",
    "```sh\n",
    "conda install -c CHANNEL_NAME PACKAGE_NAME\n",
    "```"
   ]
  },
  {
   "attachments": {},
   "cell_type": "markdown",
   "metadata": {},
   "source": [
    "#### Update package\n",
    "\n",
    "```sh\n",
    "conda update PACKAGE_NAME\n",
    "```"
   ]
  },
  {
   "attachments": {},
   "cell_type": "markdown",
   "metadata": {},
   "source": [
    "#### List installed packages\n",
    "\n",
    "```sh\n",
    "conda list\n",
    "```"
   ]
  },
  {
   "attachments": {},
   "cell_type": "markdown",
   "metadata": {},
   "source": [
    "### Channels"
   ]
  },
  {
   "attachments": {},
   "cell_type": "markdown",
   "metadata": {},
   "source": [
    "#### List channels\n",
    "\n",
    "```sh\n",
    "conda config --show channels\n",
    "```"
   ]
  },
  {
   "attachments": {},
   "cell_type": "markdown",
   "metadata": {},
   "source": [
    "#### Add channel\n",
    "\n",
    "```sh\n",
    "conda config --aa channels CHANNEL_NAME\n",
    "```"
   ]
  },
  {
   "attachments": {},
   "cell_type": "markdown",
   "metadata": {},
   "source": [
    "### Basic"
   ]
  },
  {
   "attachments": {},
   "cell_type": "markdown",
   "metadata": {},
   "source": [
    "#### Show installation info\n",
    "\n",
    "```sh\n",
    "conda info\n",
    "```"
   ]
  },
  {
   "attachments": {},
   "cell_type": "markdown",
   "metadata": {},
   "source": [
    "#### Update to current version\n",
    "\n",
    "```sh\n",
    "conda update conda\n",
    "```"
   ]
  },
  {
   "attachments": {},
   "cell_type": "markdown",
   "metadata": {},
   "source": [
    "####"
   ]
  }
 ],
 "metadata": {
  "kernelspec": {
   "display_name": "FastAi",
   "language": "python",
   "name": "python3"
  },
  "language_info": {
   "codemirror_mode": {
    "name": "ipython",
    "version": 3
   },
   "file_extension": ".py",
   "mimetype": "text/x-python",
   "name": "python",
   "nbconvert_exporter": "python",
   "pygments_lexer": "ipython3",
   "version": "3.11.4"
  },
  "orig_nbformat": 4
 },
 "nbformat": 4,
 "nbformat_minor": 2
}
