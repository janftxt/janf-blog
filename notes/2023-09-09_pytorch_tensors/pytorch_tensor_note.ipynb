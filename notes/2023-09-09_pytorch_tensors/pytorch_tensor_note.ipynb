{
 "cells": [
  {
   "cell_type": "markdown",
   "metadata": {},
   "source": [
    "---\n",
    "title: 'pytorch tensor cheatsheet'\n",
    "description: 'pytorch tensor cheatsheet'\n",
    "author: 'janf'\n",
    "date: '2023-09-09'\n",
    "date-format: iso\n",
    "categories: [cheatsheet]\n",
    "toc: true\n",
    "execute: \n",
    "  enabled: false\n",
    "format:\n",
    "  html:\n",
    "    code-copy: true\n",
    "draft: false\n",
    "---"
   ]
  },
  {
   "cell_type": "markdown",
   "metadata": {},
   "source": [
    "## What are Tensors\n",
    "\n",
    "Tensors are a specialized data structure that are very similar to arrays and matrices. In PyTorch, we use tensors to encode the inputs and outputs of model, as well as the model's parameters. Tensors are similar to NumPy's arrays, expect that tensors can run on GPU or other hardware.\n",
    "\n",
    "[PyTorch Tensor](https://pytorch.org/tutorials/beginner/basics/tensorqs_tutorial.html)\n",
    "\n",
    "[Introduction to PyTorch Tensors](https://pytorch.org/tutorials/beginner/introyt/tensors_deeper_tutorial.html)"
   ]
  },
  {
   "cell_type": "code",
   "execution_count": 24,
   "metadata": {},
   "outputs": [],
   "source": [
    "#| echo: false\n",
    "import math"
   ]
  },
  {
   "cell_type": "markdown",
   "metadata": {},
   "source": [
    "## Import torch"
   ]
  },
  {
   "cell_type": "code",
   "execution_count": 25,
   "metadata": {},
   "outputs": [],
   "source": [
    "import torch"
   ]
  },
  {
   "cell_type": "markdown",
   "metadata": {},
   "source": [
    "## Creating Tensors\n",
    "\n",
    "Ways to create a tensor."
   ]
  },
  {
   "cell_type": "markdown",
   "metadata": {},
   "source": [
    "### Factory Method\n",
    "\n",
    "Creating an empty tensor. <b>torch.empty()</b>"
   ]
  },
  {
   "cell_type": "code",
   "execution_count": 26,
   "metadata": {},
   "outputs": [
    {
     "name": "stdout",
     "output_type": "stream",
     "text": [
      "tensor([[1.1079e-35, 0.0000e+00, 3.6730e-36, 0.0000e+00],\n",
      "        [1.5192e+13, 4.5656e-41, 0.0000e+00, 0.0000e+00],\n",
      "        [0.0000e+00, 0.0000e+00, 0.0000e+00, 0.0000e+00]])\n"
     ]
    }
   ],
   "source": [
    "# creating a tensor with 2-dimensions, 3 rows and 4 columns.\n",
    "x = torch.empty(3,4)\n",
    "# by default tenors are 32-bit gloating point numbers.\n",
    "# torch.empty() allocates memory for the tensor but does not initialize it with any values\n",
    "print(x)"
   ]
  },
  {
   "cell_type": "markdown",
   "metadata": {},
   "source": [
    "Creating a tensor full of zeros. <b>torch.zeros()</b>"
   ]
  },
  {
   "cell_type": "code",
   "execution_count": 27,
   "metadata": {},
   "outputs": [
    {
     "name": "stdout",
     "output_type": "stream",
     "text": [
      "tensor([[0., 0., 0.],\n",
      "        [0., 0., 0.]])\n"
     ]
    }
   ],
   "source": [
    "# creating a tensor with 2-dimensions, 2 rows and 3 columns.\n",
    "x = torch.zeros(2,3)\n",
    "print(x)"
   ]
  },
  {
   "cell_type": "markdown",
   "metadata": {},
   "source": [
    "Creating a tensor full of ones. <b>torch.ones()</b>"
   ]
  },
  {
   "cell_type": "code",
   "execution_count": 28,
   "metadata": {},
   "outputs": [
    {
     "name": "stdout",
     "output_type": "stream",
     "text": [
      "tensor([[1.],\n",
      "        [1.],\n",
      "        [1.]])\n"
     ]
    }
   ],
   "source": [
    "# creating a tensor with 2-dimensions, 3 rows and 1 column.\n",
    "x = torch.ones(3,1)\n",
    "print(x)"
   ]
  },
  {
   "cell_type": "markdown",
   "metadata": {},
   "source": [
    "Creating a tenor full of random values. <b>torch.rand()</b>"
   ]
  },
  {
   "cell_type": "code",
   "execution_count": 29,
   "metadata": {},
   "outputs": [
    {
     "name": "stdout",
     "output_type": "stream",
     "text": [
      "tensor([[0.5305, 0.9925, 0.7754],\n",
      "        [0.9989, 0.3047, 0.9887]])\n"
     ]
    }
   ],
   "source": [
    "torch.manual_seed(187)\n",
    "# creating a tensor with 2-dimension, 2 rows and 3 columns.\n",
    "random = torch.rand(2,3)\n",
    "print(random)"
   ]
  },
  {
   "cell_type": "markdown",
   "metadata": {},
   "source": [
    "### Creating a tensor with specific data directly"
   ]
  },
  {
   "cell_type": "markdown",
   "metadata": {},
   "source": [
    "<b>torch.tensor()</b> is the way to create a tenors if you have a Python tuple or list. Is creates a copy of the data as tensor."
   ]
  },
  {
   "cell_type": "code",
   "execution_count": 30,
   "metadata": {},
   "outputs": [
    {
     "name": "stdout",
     "output_type": "stream",
     "text": [
      "torch.Size([2, 3])\n",
      "tensor([[1, 2, 3],\n",
      "        [4, 5, 6]])\n"
     ]
    }
   ],
   "source": [
    "x = torch.tensor(([1,2,3],[4,5,6]))\n",
    "print(x.shape)\n",
    "print(x)"
   ]
  },
  {
   "cell_type": "markdown",
   "metadata": {},
   "source": [
    "### Random tensor and seeding"
   ]
  },
  {
   "cell_type": "markdown",
   "metadata": {},
   "source": [
    "<b>torch.manual_seed()</b> sets the random seed to fixes the random outputs.\n",
    "\n",
    "<b>torch.rand()</b> creates a random tensor."
   ]
  },
  {
   "cell_type": "code",
   "execution_count": 32,
   "metadata": {},
   "outputs": [
    {
     "name": "stdout",
     "output_type": "stream",
     "text": [
      "tensor([[0.5305, 0.9925, 0.7754, 0.9989, 0.3047],\n",
      "        [0.9887, 0.3299, 0.2694, 0.5281, 0.8815],\n",
      "        [0.5275, 0.7802, 0.9964, 0.1060, 0.5047],\n",
      "        [0.6960, 0.1014, 0.8651, 0.9504, 0.7015],\n",
      "        [0.2917, 0.7787, 0.3808, 0.2624, 0.6519]])\n"
     ]
    }
   ],
   "source": [
    "torch.manual_seed(187)\n",
    "random = torch.rand(5,5)\n",
    "print(random)"
   ]
  },
  {
   "cell_type": "markdown",
   "metadata": {},
   "source": [
    "### Creating tensor with the shape like\n",
    "\n",
    "Creating a tensor having the same number dimensions and the same number of cells in each dimension.\n",
    "- <b>torch.empty_like()</b>\n",
    "- <b>torch.zeros_like()</b>\n",
    "- <b>torch.ones_like()</b>\n",
    "- <b>torch.rand_like()</b>"
   ]
  },
  {
   "cell_type": "code",
   "execution_count": 35,
   "metadata": {},
   "outputs": [
    {
     "name": "stdout",
     "output_type": "stream",
     "text": [
      "tensor([[[4.8634e-34, 4.5657e-41, 1.1022e-35],\n",
      "         [0.0000e+00, 1.4013e-45, 0.0000e+00]],\n",
      "\n",
      "        [[0.0000e+00, 0.0000e+00, 0.0000e+00],\n",
      "         [0.0000e+00, 0.0000e+00, 0.0000e+00]]])\n",
      "tensor([[[0., 0., 0.],\n",
      "         [0., 0., 0.]],\n",
      "\n",
      "        [[0., 0., 0.],\n",
      "         [0., 0., 0.]]])\n"
     ]
    }
   ],
   "source": [
    "x = torch.empty(2,2,3)\n",
    "print(x)\n",
    "\n",
    "zeros_like_x = torch.zeros_like(x)\n",
    "print(zeros_like_x)"
   ]
  },
  {
   "cell_type": "markdown",
   "metadata": {},
   "source": [
    "### Terminology about tensors and thier number of dimensions\n",
    "\n",
    "- 0-dimensional tensor is called a scalar\n",
    "- 1-dimensional tensor is called a vector\n",
    "- 2-dimensional tensor is called a matrix\n",
    "- 3-dimensional or more tensor is called a tensor"
   ]
  },
  {
   "cell_type": "code",
   "execution_count": 54,
   "metadata": {},
   "outputs": [
    {
     "name": "stdout",
     "output_type": "stream",
     "text": [
      "scalar (0-dim)\n",
      "tensor([1.])\n",
      "torch.Size([1])\n",
      "\n",
      "\n",
      "vector 1-dim\n",
      "tensor([[1., 1., 1., 1.]])\n",
      "\n",
      "\n",
      "matrix 2-dim\n",
      "tensor([[1., 1., 1.],\n",
      "        [1., 1., 1.],\n",
      "        [1., 1., 1.]])\n",
      "\n",
      "\n",
      "tensor 3-dim or more\n",
      "tensor([[[1., 1., 1., 1.],\n",
      "         [1., 1., 1., 1.],\n",
      "         [1., 1., 1., 1.],\n",
      "         [1., 1., 1., 1.]],\n",
      "\n",
      "        [[1., 1., 1., 1.],\n",
      "         [1., 1., 1., 1.],\n",
      "         [1., 1., 1., 1.],\n",
      "         [1., 1., 1., 1.]],\n",
      "\n",
      "        [[1., 1., 1., 1.],\n",
      "         [1., 1., 1., 1.],\n",
      "         [1., 1., 1., 1.],\n",
      "         [1., 1., 1., 1.]],\n",
      "\n",
      "        [[1., 1., 1., 1.],\n",
      "         [1., 1., 1., 1.],\n",
      "         [1., 1., 1., 1.],\n",
      "         [1., 1., 1., 1.]]])\n"
     ]
    }
   ],
   "source": [
    "d0 = torch.ones(1)\n",
    "print('scalar (0-dim)')\n",
    "print(d0)\n",
    "print('\\n')\n",
    "\n",
    "d1 = torch.ones(1,4)\n",
    "print('vector 1-dim')\n",
    "print(d1)\n",
    "print('\\n')\n",
    "\n",
    "\n",
    "d2 = torch.ones(3,3)\n",
    "print('matrix 2-dim')\n",
    "print(d2)\n",
    "print('\\n')\n",
    "\n",
    "d3 = torch.ones(4,4,4)\n",
    "print('tensor 3-dim or more')\n",
    "print(d3)"
   ]
  },
  {
   "cell_type": "markdown",
   "metadata": {},
   "source": [
    "<b>.shape</b> property gives list of the extant of each dimension "
   ]
  },
  {
   "cell_type": "code",
   "execution_count": 55,
   "metadata": {},
   "outputs": [
    {
     "data": {
      "text/plain": [
       "torch.Size([2, 1])"
      ]
     },
     "execution_count": 55,
     "metadata": {},
     "output_type": "execute_result"
    }
   ],
   "source": [
    "x = torch.zeros(2,1)\n",
    "x.shape"
   ]
  },
  {
   "cell_type": "markdown",
   "metadata": {},
   "source": [
    "### Tensor data types"
   ]
  },
  {
   "cell_type": "code",
   "execution_count": null,
   "metadata": {},
   "outputs": [],
   "source": [
    "a = torch.ones()"
   ]
  }
 ],
 "metadata": {
  "kernelspec": {
   "display_name": "FastAi",
   "language": "python",
   "name": "python3"
  },
  "language_info": {
   "codemirror_mode": {
    "name": "ipython",
    "version": 3
   },
   "file_extension": ".py",
   "mimetype": "text/x-python",
   "name": "python",
   "nbconvert_exporter": "python",
   "pygments_lexer": "ipython3",
   "version": "3.9.16"
  },
  "orig_nbformat": 4
 },
 "nbformat": 4,
 "nbformat_minor": 2
}
