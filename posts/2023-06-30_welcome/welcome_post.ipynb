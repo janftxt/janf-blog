{
 "cells": [
  {
   "cell_type": "markdown",
   "metadata": {},
   "source": [
    "---\n",
    "title: \"hello world\"\n",
    "description: 'The first post on this blog'\n",
    "author: \"janf\"\n",
    "date: \"2023-06-30\"\n",
    "date-format: iso\n",
    "image: welcome_thumbnail.jpg\n",
    "categories: [social]\n",
    "toc: true\n",
    "draft: false\n",
    "---"
   ]
  },
  {
   "cell_type": "markdown",
   "metadata": {},
   "source": [
    "![flora - janf - 2020](welcome_thumbnail.jpg){fig-align=\"left\" width=50%}"
   ]
  },
  {
   "cell_type": "markdown",
   "metadata": {},
   "source": [
    "# This is the first post on this blog. Seavas!\n",
    "\n",
    "Hello, I'm [Jan F.](../../about.qmd) from west austria 🇦🇹 . <br> I like to learn and create new things. Here i take notes about these processes or outcomes ✌️"
   ]
  }
 ],
 "metadata": {
  "language_info": {
   "name": "python"
  },
  "orig_nbformat": 4
 },
 "nbformat": 4,
 "nbformat_minor": 2
}
