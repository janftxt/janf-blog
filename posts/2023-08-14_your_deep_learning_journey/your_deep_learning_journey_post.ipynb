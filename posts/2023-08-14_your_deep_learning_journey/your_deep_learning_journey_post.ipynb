{
 "cells": [
  {
   "cell_type": "markdown",
   "metadata": {},
   "source": [
    "---\n",
    "title: 'your deep learning journey'\n",
    "description: 'fastai book chapter 1'\n",
    "author: \"janf\"\n",
    "date: \"2023-08-14\"\n",
    "date-format: iso\n",
    "image: your_deep_learning_journey_thumbnail.jpg\n",
    "categories: [fastai, deeplearning, self-study]\n",
    "toc: true\n",
    "draft: false\n",
    "---"
   ]
  },
  {
   "cell_type": "markdown",
   "metadata": {},
   "source": [
    "![fastai book chapter 1 - janf - 2023](your_deep_learning_journey_thumbnail.jpg){fig-align=\"left\" width=50%}"
   ]
  },
  {
   "cell_type": "markdown",
   "metadata": {},
   "source": [
    "# Intro\n",
    "\n",
    "This my summary of chapter 1 from the book \"Deep Learning for Coders with fastai & PyTorch\".\n",
    "\n",
    " - questions - question about the chapter\n",
    " - key concepts - summarized key concepts of the chapter\n",
    "\n",
    "::: {.callout-note}\n",
    "## Links \n",
    "\n",
    "- Homepage: [fastai hompage](https://www.fast.ai/)\n",
    "- Online Book: [fastai online book](https://course.fast.ai/Resources/book.html)\n",
    "- Author: [jermey howard](https://jeremy.fast.ai/)\n",
    "- Author: [sylvain gugger](https://sgugger.github.io/)\n",
    ":::"
   ]
  },
  {
   "cell_type": "markdown",
   "metadata": {},
   "source": [
    "# Questions\n",
    "\n",
    "Questions about the chapter. \n",
    "\n",
    "[Questions - Chapter 1 - Your deep learning journey](subsite/your_deep_learning_journey_questions.ipynb) "
   ]
  },
  {
   "cell_type": "markdown",
   "metadata": {},
   "source": [
    "# Code\n",
    "\n",
    "Code from this chapter.\n",
    "\n",
    "[Code - Chapter 1 - Your deep learning journey - Is this a cat](https://github.com/xjanfcc/fastai/blob/master/book/chapter_1_your_deep_learning_practice/cats_and_dogs.ipynb)\n",
    "\n",
    "[Code - Course 1-1 - Getting Started - Is it a bird](https://github.com/xjanfcc/fastai/blob/master/course/part_1-1_getting_started/is_it_a_bird.ipynb)"
   ]
  },
  {
   "cell_type": "markdown",
   "metadata": {},
   "source": [
    "# Key Concepts\n",
    "\n",
    "Summarized key concepts ot this chapter.\n",
    "\n",
    "## What is machine learning\n",
    "\n",
    "The idea is instead of telling the computer the exact steps required to solve a problem, show it examples of the problem to solve, and let it figure out how to solve it itself. \n",
    "\n",
    "![training a machine learning model - fastai - 2023](maschine_learning.jpg)\n",
    "\n",
    "- weight assignment\n",
    "- automatic means of testing the effectiveness\n",
    "- current weight assignment in terms of actual performance\n",
    "- mechanism for altering the weight assignment so as to maximize the performance\n",
    "\n",
    "## What is deep learning\n",
    "\n",
    "Deep learning is specialty within machine learning that uses neural networks with multiple layers.\n",
    "\n",
    "## Why are neural network great for machine / deep learning\n",
    "\n",
    "- If you regard a neural network as a mathematical function, it turns out to be function that ist extremely flexible depending on its weights. \n",
    "- A mathematical proof called the universal approximation theorem shows that this function can solve any problem to any level of accuracy.\n",
    "- In neural network we can use stochastic gradient descent (SGD).\n",
    "- To determine the actual performance we can define our models performance as its accuracy at predicting the correct answers.\n",
    "\n",
    "## Modern Deep Learning Loop and Jargon\n",
    "\n",
    "![modern deep learning loop - fastai - 2023](modern_deep_learning_loop.jpg)\n",
    "\n",
    "- <b>Architecture</b> The template of the model that we trying to fit, the actual mathematical function that we're passing the input data and parameters to.\n",
    "- <b>Model</b> The combination of the architecture with a particular set of parameters.\n",
    "- <b>Label</b> The data that we trying to predict.\n",
    "- <b>Parameters</b> The values in the model that change what task it can do and that are updated through model training\n",
    "- <b>Predictions</b> The results of the model are called predictions. The predictions are calculated from the independent variable, which is the data not including the labels.\n",
    "- <b>Loss</b> Loss ist the measurement of the performance. The loss depends not only on the predictions, but also on the correct labels.\n",
    "- <b>Fit / Train</b> Update the parameters of the model such that the predictions of the model using the input data match the target labels.\n",
    "- <b>Epoch</b> One complete pass through the input data (training set)\n",
    "\n",
    "## Limitations Inherent to Machine Learning\n",
    "\n",
    "- A model cannot be created without data.\n",
    "- A model can learn to operate on only the patterns seen in the input data used to train it.\n",
    "- This learning approach creates only predictions, not recommended actions.\n",
    "- It's not enough to just have examples of input data, we need labels for that data too.\n",
    "\n",
    "## Classification and Regression\n",
    "\n",
    "- <b>Classification</b> A classification model is one that attempts to predict a class, or category. That is, it's predicting from a number of discrete possibilities.\n",
    "- <b>Regression</b> A regression model is one that attempts to predict one or more numeric quantities, such as a temperature or a location.\n",
    "\n",
    "## What is Overfitting\n",
    "\n",
    "Overfitting is the single most important and challenging issue when training for all machine learning. Training a model in such a way that it remembers specific features of the input data, rather than generalizing well to data not seen during training.\n",
    "\n",
    "## Training Set, Validation Sets and Test Sets\n",
    "\n",
    "- <b>Training set</b> The data used for fitting the model, does not include any data from the validation set. (If there is enough data 80% is used for training)\n",
    "- <b>Validation set</b> A set of data held out from training, used only for measuring how good the model is. (If there is enough data 20% is used for validation)\n",
    "- <b>Test set</b> As we hold the validation data back from the training process, we can hold back a test set data even from ourselves. It cannot be used to improve the model, it can only be used to evaluate the model at the very end. (Take out some data for testing and split the rest to 80% for training and 20% for validation)\n",
    "\n",
    "::: {.callout-note}\n",
    "For decision makers it is important to unsure to rally understand what a test and validation set is. For example you should never give out all the data to an external vender. Always hold some test data (test set) for your own validation of the final model.\n",
    ":::\n",
    "\n",
    "## What is a CNN (Convolutional neural network)\n",
    "\n",
    "Convolutional neural network, a type of neural network that works particularly well for computer vision tasks.\n",
    "\n",
    "## Pertrained model and Fine-tuning\n",
    "\n",
    "<b>Pretrained model</b> A pretrained model has weights already been trained on some other dataset. You should nearly always use a pretrained model, because it means the your model, before you've even shown it any of your data, is already very capable. For instance. parts of pretrained models will handle edge, gradient, and color detection. which are needed for many tasks.\n",
    "\n",
    "<b>Transfer learning</b> Using a pretrained model for a task different to what it was originally trained for.\n",
    "\n",
    "<b>Fine-tuning</b> A transfer learning technique where the parameters of a pretrained model are updated by training for additional epochs using a different task that used for pretraining.\n",
    "\n",
    "::: {.callout-note}\n",
    "Using a pretrained model is the most important method we have to allow us to train more accurate models, more quickly, with less data, and less time and money.\n",
    ":::"
   ]
  }
 ],
 "metadata": {
  "kernelspec": {
   "display_name": "Home",
   "language": "python",
   "name": "python3"
  },
  "language_info": {
   "name": "python",
   "version": "3.11.4"
  },
  "orig_nbformat": 4
 },
 "nbformat": 4,
 "nbformat_minor": 2
}
