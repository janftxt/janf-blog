{
 "cells": [
  {
   "cell_type": "markdown",
   "metadata": {},
   "source": [
    "---\n",
    "title: \"fastai book chapter 2\"\n",
    "description: 'from model to production'\n",
    "author: \"janf\"\n",
    "date: \"2023-08-18\"\n",
    "date-format: iso\n",
    "image: from_model_to_production_thumbnail.jpg\n",
    "categories: [fastai, deeplearning, self-study]\n",
    "toc: true\n",
    "draft: true\n",
    "---"
   ]
  },
  {
   "cell_type": "markdown",
   "metadata": {},
   "source": [
    "![fastai book chapter x - janf - 2023](from_model_to_production_thumbnail.jpg){fig-align=\"left\" width=50%}"
   ]
  },
  {
   "cell_type": "markdown",
   "metadata": {},
   "source": [
    "# Intro\n",
    "\n",
    "This my summary of chapter 2 from the book 'Deep Learning for Coders with fastai & PyTorch'. Its divided in tow main sections:\n",
    "\n",
    " - questions - question about the chapter\n",
    " - key concepts - summarized key concepts of the chapter\n",
    "\n",
    "Links:\n",
    "\n",
    "- [fastai](https://www.fast.ai/)\n",
    "- [fastai book](https://course.fast.ai/Resources/book.html)"
   ]
  },
  {
   "cell_type": "markdown",
   "metadata": {},
   "source": [
    "# Questions\n",
    "\n",
    "Questions about the chapter. \n",
    "\n",
    "[Questions - Chapter 2 - Your deep learning journey](subsite/from_model_to_production_questions.ipynb) "
   ]
  },
  {
   "cell_type": "markdown",
   "metadata": {},
   "source": [
    "# Code\n",
    "\n",
    "Code from this chapter."
   ]
  },
  {
   "cell_type": "markdown",
   "metadata": {},
   "source": [
    "# Key Concepts\n",
    "\n",
    "Summarized key concepts ot this chapter.\n",
    "\n",
    "## Drivetrain Approach\n",
    "\n",
    "Data products get more and more complex so we sometimes lose sight of the real problem we are trying to solve. The Drivetrain Approach aims to better couple the data science to the real business needs/real world problem and to use data not just to generate more data but to use data to produce actionable outcomes. \n",
    "\n",
    "![Drive Train Approach - Designing great data products](drivetrain_approach.jpg)\n",
    "\n",
    "1. (Defined Objective) First we must define the objective / goal \n",
    "2. (Levers) Specify what inputs/levers of the system we control that influence the final outcome\n",
    "3. (Data) Determine what data to collect\n",
    "4. (Models) Building the predictive models\n",
    "\n",
    "## DataLoaders\n",
    "\n",
    "\n",
    "\n",
    "## Data Augmentation\n",
    "\n",
    "## Clean the Data with you Model\n",
    "\n",
    "## Avoid Disasters"
   ]
  }
 ],
 "metadata": {
  "kernelspec": {
   "display_name": "Home",
   "language": "python",
   "name": "python3"
  },
  "language_info": {
   "name": "python",
   "version": "3.11.4"
  },
  "orig_nbformat": 4
 },
 "nbformat": 4,
 "nbformat_minor": 2
}
