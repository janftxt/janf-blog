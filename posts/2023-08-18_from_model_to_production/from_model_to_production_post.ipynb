{
 "cells": [
  {
   "cell_type": "markdown",
   "metadata": {},
   "source": [
    "---\n",
    "title: \"fastai book chapter 2\"\n",
    "description: 'from model to production'\n",
    "author: \"janf\"\n",
    "date: \"2023-08-18\"\n",
    "date-format: iso\n",
    "image: from_model_to_production_thumbnail.jpg\n",
    "categories: [fastai, deeplearning, self-study]\n",
    "toc: true\n",
    "draft: false\n",
    "---"
   ]
  },
  {
   "cell_type": "markdown",
   "metadata": {},
   "source": [
    "![fastai book chapter x - janf - 2023](from_model_to_production_thumbnail.jpg){fig-align=\"left\" width=50%}"
   ]
  },
  {
   "cell_type": "markdown",
   "metadata": {},
   "source": [
    "# Intro\n",
    "\n",
    "This my summary of chapter 2 from the book 'Deep Learning for Coders with fastai & PyTorch'.\n",
    "\n",
    " - questions - question about the chapter\n",
    " - key concepts - summarized key concepts of the chapter\n",
    "\n",
    "::: {.callout-note}\n",
    "## Links \n",
    "\n",
    "- Homepage: [fastai hompage](https://www.fast.ai/)\n",
    "- Online Book: [fastai online book](https://course.fast.ai/Resources/book.html)\n",
    "- Author: [jermey howard](https://jeremy.fast.ai/)\n",
    "- Author: [sylvain gugger](https://sgugger.github.io/)\n",
    ":::"
   ]
  },
  {
   "cell_type": "markdown",
   "metadata": {},
   "source": [
    "# Questions\n",
    "\n",
    "Questions about the chapter. \n",
    "\n",
    "[Questions - Chapter 2 - Your deep learning journey](subsite/from_model_to_production_questions.ipynb) "
   ]
  },
  {
   "cell_type": "markdown",
   "metadata": {},
   "source": [
    "# Code\n",
    "\n",
    "Code from this chapter.\n",
    "\n",
    "[Code - Chapter 2 - From a model to production - Bears](https://github.com/xjanfcc/fastai/blob/master/book/chapter_2_from_model_to_production/bears.ipynb)\n",
    "\n",
    "[Code - Course 1-2 - Deployment - Dog or Cat](https://github.com/xjanfcc/fastai/blob/master/course/part_1-2_deployment/dog_cats.ipynb)\n",
    "\n",
    "[Code - Course 1-2 - Deployment - Gradio Dog or Cat App Code](https://huggingface.co/spaces/xjanfcc/dog_cats/tree/main)\n",
    "\n",
    "[Code - Course 1-2 - Deployment - Gradio Dog or Cat App](https://huggingface.co/spaces/xjanfcc/dog_cats)"
   ]
  },
  {
   "cell_type": "markdown",
   "metadata": {},
   "source": [
    "# Key Concepts\n",
    "\n",
    "Summarized key concepts ot this chapter.\n",
    "\n",
    "## Drivetrain Approach\n",
    "\n",
    "Data products get more and more complex so we sometimes lose sight of the real problem we are trying to solve. The Drivetrain Approach aims to better couple the data science to the real business needs/real world problem and to use data not just to generate more data but to use data to produce actionable outcomes. \n",
    "\n",
    "![Drive Train Approach - Designing great data products](drivetrain_approach.jpg)\n",
    "\n",
    "1. (Defined Objective) First we must define the objective / goal \n",
    "2. (Levers) Specify what inputs/levers of the system we control that influence the final outcome\n",
    "3. (Data) Determine what data to collect\n",
    "4. (Models) Building the predictive models\n",
    "\n",
    "## DataLoader, DataLoaders, DataBlock\n",
    "\n",
    "- <b>DataBlock</b> is the data pipeline. A template that we create that has no data, but defines alle the context on how to work with it. For example, how to split the data, the data types of or features and targets/labels, how to extract the labels from the underlying data (folders).\n",
    "- <b>DataLoader</b> doesn't care about preparing data, it expects the data ready to go and only cares about how to load the data (e.g. whether in parallel or in a single process) as well as feeding the data to the model in batches (i.e. batch size)\n",
    "- <b>DataLoaders</b> is a thin wrapper for more than one DataLoader.\n",
    "\n",
    "A DataLoaders, is a thin class that automatically generates multiple <b>DataLoader</b> objects based on the rules specified in our <b>DataBlock</b>\n",
    "\n",
    "Example of a DataLoaders with a DataBlock Api:\n",
    "\n",
    "```python\n",
    "bears = DataBlock(\n",
    "blocks =(ImageBlock, CategoryBlock),\n",
    "get_items=get_image_files,\n",
    "splitter=RandomSplitter(valid_pct=0.2, seed=42),\n",
    "get_y=parent_label,\n",
    "item_tfms=Resize(128)\n",
    ")\n",
    "```\n",
    "\n",
    "These are the main parameters of the DataBlock:\n",
    "\n",
    "1. blocks: is where you define the types of input and output data your model will work with. The fist one is the independent (input) and the second one is dependent target. Usually you will have two input and output but you can have multiple input/output variables.\n",
    "2. get_items: tells fastai how and where to get the files/data when needed.\n",
    "3. splitter: how to split the data in training and validation set. Seeds are optional for replicability.\n",
    "4. get_y: how to extract the target/label/variable (dependent) from the data.\n",
    "\n",
    "## Data Augmentation\n",
    "\n",
    "Data augmentation refers to creating random variations of our input data, such that they appear different but do not change the meaning of the data. Examples of common data augmentation techniques for images are rotation, flipping, perspective warping, brightness changes and contrast changes. Data augmentation is useful for the model to better understand the basic concept of what an object is and how the objects of interest are represented in images. Therefore, data augmentation allows machine learning models to generalize better. This is especially important when it can be slow and expensive to label data.\n",
    "\n",
    "## Clean the Data with you Model\n",
    "\n",
    "On method to look at your model is visualizing it in a confusion matrix:\n",
    "\n",
    "![confusion matrix bears](confusionmatrix.jpg)\n",
    "\n",
    "For this example the rows represent all the black, grizzly and teddy bears in our dataset, respectively. The columns represent the images that the model predicted as black, grizzly and teddy bears, respectively. Therefore, the diagonal of the matrix shows the images that were classified correctly, and the off-diagonal cells represent those that were classified incorrectly. \n",
    "\n",
    "A confusion matrix is helpful to see where exactly our errors occurring\n",
    "1. You can see if there are datasets errors (images with no bears or entries labeled incorrectly)\n",
    "2. Or you can see if there is problem with the model (images with unusual lighting or blurred images)\n",
    "\n",
    "The intuitive approach to doing data cleaning is to do it before you train a model. But you can also train a quick and simple model first, and then use it to help us with data cleaning. fastai includes a handy GUI for data cleaning called ImageClassifierCleaner that allows you to choose a category and the training versus validation set and view the highest-loss images (in order), along with menus to allow images to be selected for removal or relabeling:\n",
    "\n",
    "```python\n",
    "cleaner = ImageClassifierCleaner(learn)\n",
    "cleaner\n",
    "```\n",
    "\n",
    "\n",
    "## Avoid Disasters\n",
    "\n",
    "You should always have in mind that it's difficult to understand the behavior of a deep learning model. In a neural network the behavior emerges from the models attempt to match the training data, rather than being exactly defined. \n",
    "\n",
    "One general problem is the out-of-domain data problem. That is to say, there may be data that our model sees in production that is very different from what it saw during training. There isn't a complete technical solution to this problem, instead, we have to be careful about rolling out a deep learning model.\n",
    "\n",
    "Another problem ist a domain is a domain shift, whereby the type of data that our model sees changes over time. For instance, an insurance company may use a deep learning model arr part of its pricing and risk algorithm, but over time the types of customers the company attracts and the types of risks it represents may change so much that the original training data is no longer relevant.\n",
    "\n",
    "High-Level approach to mitigate the risks on a roll-out\n",
    "\n",
    "![Mitigate risk on rollout](rollout.jpg)"
   ]
  }
 ],
 "metadata": {
  "kernelspec": {
   "display_name": "Home",
   "language": "python",
   "name": "python3"
  },
  "language_info": {
   "name": "python",
   "version": "3.11.4"
  },
  "orig_nbformat": 4
 },
 "nbformat": 4,
 "nbformat_minor": 2
}
