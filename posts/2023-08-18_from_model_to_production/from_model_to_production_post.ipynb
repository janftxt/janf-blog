{
 "cells": [
  {
   "cell_type": "markdown",
   "metadata": {},
   "source": [
    "---\n",
    "title: \"fastai book chapter 2\"\n",
    "description: 'from model to production'\n",
    "author: \"janf\"\n",
    "date: \"2023-08-18\"\n",
    "date-format: iso\n",
    "image: from_model_to_production_thumbnail.jpg\n",
    "categories: [fastai, deeplearning, self-study]\n",
    "toc: true\n",
    "draft: false\n",
    "---"
   ]
  },
  {
   "cell_type": "markdown",
   "metadata": {},
   "source": [
    "![fastai book chapter x - janf - 2023](from_model_to_production_thumbnail.jpg){fig-align=\"left\" width=50%}"
   ]
  },
  {
   "cell_type": "markdown",
   "metadata": {},
   "source": [
    "# Intro\n",
    "\n",
    "This my summary of chapter 2 from the book 'Deep Learning for Coders with fastai & PyTorch'. Its divided in tow main sections:\n",
    "\n",
    " - questions - question about the chapter\n",
    " - key concepts - summarized key concepts of the chapter\n",
    "\n",
    "Links:\n",
    "\n",
    "- [fastai](https://www.fast.ai/)\n",
    "- [fastai book](https://course.fast.ai/Resources/book.html)"
   ]
  },
  {
   "cell_type": "markdown",
   "metadata": {},
   "source": [
    "# Questions\n",
    "\n",
    "Questions about the chapter. \n",
    "\n",
    "[Questions - Chapter 2 - Your deep learning journey](subsite/from_model_to_production_questions.ipynb) "
   ]
  },
  {
   "cell_type": "markdown",
   "metadata": {},
   "source": [
    "# Code\n",
    "\n",
    "Code from this chapter."
   ]
  },
  {
   "cell_type": "markdown",
   "metadata": {},
   "source": [
    "# Key Concepts\n",
    "\n",
    "Summarized key concepts ot this chapter.\n",
    "\n",
    "## Drivetrain Approach\n",
    "\n",
    "Data products get more and more complex so we sometimes lose sight of the real problem we are trying to solve. The Drivetrain Approach aims to better couple the data science to the real business needs/real world problem and to use data not just to generate more data but to use data to produce actionable outcomes. \n",
    "\n",
    "![Drive Train Approach - Designing great data products](drivetrain_approach.jpg)\n",
    "\n",
    "1. (Defined Objective) First we must define the objective / goal \n",
    "2. (Levers) Specify what inputs/levers of the system we control that influence the final outcome\n",
    "3. (Data) Determine what data to collect\n",
    "4. (Models) Building the predictive models\n",
    "\n",
    "## DataLoader, DataLoaders, DataBlock\n",
    "\n",
    "- <b>DataBlock</b> is the data pipeline. A template that we create that has no data, but defines alle the context on how to work with it. For example, how to split the data, the data types of or features and targets/labels, how to extract the labels from the underlying data (folders).\n",
    "- <b>DataLoader</b> dosen't care about preparing data, it expects the data ready to go and only cares about how to load the data (e.g. whether in parallel or in a single process) as well as feeding the data to the model in batches (i.e. batch size)\n",
    "- <b>DataLoaders</b> is a thin wrapper for more than one DataLoader.\n",
    "\n",
    "A DataLoaders, is a thin class that automatically generates multiple <b>DataLoader</b> objects based on the rules specified in our <b>DataBlock</b>\n",
    "\n",
    "Example of a DataLoaders with a DataBlock Api:\n",
    "\n",
    "```python\n",
    "bears = DataBlock(\n",
    "blocks =(ImageBlock, CategoryBlock),\n",
    "get_items=get_image_files,\n",
    "splitter=RandomSplitter(valid_pct=0.2, seed=42),\n",
    "get_y=parent_label,\n",
    "item_tfms=Resize(128)\n",
    ")\n",
    "```\n",
    "\n",
    "These are the main parameters of the DataBlock:\n",
    "\n",
    "1. blocks: is where you define the types of input and output data your model will work with. The fist one is the independent (input) and the second one is dependent target. Usually you will have two input and output but you can have multiple input/output variables.\n",
    "2. get_items: tells fastai how and where to get the files/data when needed.\n",
    "3. splitter: how to split the data in training and validation set. Seeds are optional for replicability.\n",
    "4. get_y: how to extract the target/label/variable (dependent) from the data.\n",
    "\n",
    "## Data Augmentation\n",
    "\n",
    "Data augmentation refers to creating random variations of our input data, such that they appear different but do not change the meaning of the data. Examples of common data augmentation techniques for images are rotation, flipping, perspective warping, brightness changes and contrast changes. Data augmentation is useful for the model to better understand the basic concept of what an object is and how the objects of interest are represented in images. Therefore, data augmentation allows machine learning models to generalize better. This is especially important when it can be slow and expensive to label data.\n",
    "\n",
    "## Clean the Data with you Model\n",
    "\n",
    "## Avoid Disasters"
   ]
  }
 ],
 "metadata": {
  "kernelspec": {
   "display_name": "Home",
   "language": "python",
   "name": "python3"
  },
  "language_info": {
   "name": "python",
   "version": "3.11.4"
  },
  "orig_nbformat": 4
 },
 "nbformat": 4,
 "nbformat_minor": 2
}
