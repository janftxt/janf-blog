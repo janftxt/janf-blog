{
 "cells": [
  {
   "cell_type": "markdown",
   "metadata": {},
   "source": [
    "# Questions - Chapter 2 \n",
    "::: {.callout-warning}\n",
    "## Back to blog post\n",
    "[fastai book chapter 2](../from_model_to_production_post.ipynb)\n",
    ":::\n",
    "\n",
    "::: {.callout-note}\n",
    "## Links\n",
    "- Source: [Fastbook Chapter 2 questionnaire solutions (wiki)](https://forums.fast.ai/t/fastbook-chapter-2-questionnaire-solutions-wiki/66392)\n",
    ":::"
   ]
  },
  {
   "cell_type": "markdown",
   "metadata": {},
   "source": [
    "\n",
    "<b>\n",
    "Where do text models currently have major deficiency?\n",
    "</b>\n",
    "\n",
    "Currently deep learning is not good at generating correct responses! We don't have a reliable way to, for instance, combine a knowledge base of medical information with a deep learning model for generating medically correct natural language responses. This can be very dangerous, as the layman may not be able to evaluate the factual accuracy of the generated text.\n",
    "\n",
    "<b>\n",
    "What are possible negative societal implications of text generation models?\n",
    "</b>\n",
    "\n",
    "A negative societal concern is that context-appropriate, highly compelling responses on social media could be used at massive scale, to spread disinformation, create unrest and encourage conflict. \n",
    "\n",
    "Models reinforce bias (like gender bias, racial bias) in training data and create a vicious cycle of biased outputs.\n",
    "\n",
    "<b>\n",
    "In situations where a model might make mistakes, and those mistakes could be harmful, what is a good alternative to automating a process?\n",
    "</b>\n",
    "\n",
    "One alternative is to use an entirely manual process, with your deep learning model approach running in parallel but not being used directly to drive any actions. The humans involved in the manual process should look at the deep learning output and check whether they make sense.\n",
    "\n",
    "<b>\n",
    "What kind of tabular data is deep learning particularly good at?\n",
    "</b>\n",
    "\n",
    "It great for analyzing time series and tabular data. Deep learning is also great at increasing columns containing neutral language and high categorical columns.\n",
    "\n",
    "<b>\n",
    "What's a key downside of directly using a deep learning model for recommendation systems?\n",
    "</b>\n",
    "\n",
    "Almost all machine learning approaches have the downside that they tell you only which product a particular user might like, rather than what recommendations would be helpful for a user. For example, if a user is familiar with other books from the same author, it isn’t helpful to recommend those products even though the user bought the author’s book. Or, recommending products a user may have already purchased.\n",
    "\n",
    "<b>\n",
    "What are the steps of the Drivetrain Approach?\n",
    "</b>\n",
    "\n",
    "1. Define an objective\n",
    "2. Understand the levers: what inputs can you control?\n",
    "3. What data can you collect?\n",
    "4. model the levers in order to understand how they affect the objective.\n",
    "\n",
    "The basic idea is to start with considering your objective, than think about what actions you can tak to meet that objective, then think about what actions you can take to meet that objective and what data you have (or can acquire) than can help, and then build a model that you can use to determine tha best actions to take to get the best results in terms of your objective.\n",
    "\n",
    "<b>\n",
    "Create an image recognition model using data you curate, and deploy, it on the web.\n",
    "</b>\n",
    "\n",
    "Todo. Watch [Lesson 2](https://www.youtube.com/watch?v=BvHmRx14HQ8&t=4485s) for help.\n"
   ]
  }
 ],
 "metadata": {
  "language_info": {
   "name": "python"
  },
  "orig_nbformat": 4
 },
 "nbformat": 4,
 "nbformat_minor": 2
}
