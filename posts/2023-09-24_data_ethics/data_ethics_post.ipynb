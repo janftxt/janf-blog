{
 "cells": [
  {
   "cell_type": "markdown",
   "metadata": {},
   "source": [
    "---\n",
    "title: 'data ethics'\n",
    "description: 'fastai book chapter 3'\n",
    "author: \"janf\"\n",
    "date: \"2023-09-24\"\n",
    "date-format: iso\n",
    "image: data_ethics_thumbnail.jpg\n",
    "categories: [fastai, deeplearning, self-study]\n",
    "toc: true\n",
    "draft: false\n",
    "---"
   ]
  },
  {
   "cell_type": "markdown",
   "metadata": {},
   "source": [
    "![fastai book chapter 3 - janf - 2023](data_ethics_thumbnail.jpg){fig-align=\"left\" width=50%}"
   ]
  }
 ],
 "metadata": {
  "kernelspec": {
   "display_name": "FastAi",
   "language": "python",
   "name": "python3"
  },
  "language_info": {
   "codemirror_mode": {
    "name": "ipython",
    "version": 3
   },
   "file_extension": ".py",
   "mimetype": "text/x-python",
   "name": "python",
   "nbconvert_exporter": "python",
   "pygments_lexer": "ipython3",
   "version": "3.9.16"
  },
  "orig_nbformat": 4
 },
 "nbformat": 4,
 "nbformat_minor": 2
}
