{
 "cells": [
  {
   "cell_type": "markdown",
   "metadata": {},
   "source": [
    "---\n",
    "title: 'data ethics'\n",
    "description: 'fastai book chapter 3'\n",
    "author: \"janf\"\n",
    "date: \"2023-09-24\"\n",
    "date-format: iso\n",
    "image: data_ethics_thumbnail.jpg\n",
    "categories: [fastai, deeplearning, self-study]\n",
    "toc: true\n",
    "draft: true\n",
    "---"
   ]
  },
  {
   "cell_type": "markdown",
   "metadata": {},
   "source": [
    "![fastai book chapter 3 - janf - 2023](data_ethics_thumbnail.jpg){fig-align=\"left\" width=50%}"
   ]
  },
  {
   "cell_type": "markdown",
   "metadata": {},
   "source": [
    "# Intro\n",
    "\n",
    "This my summary of chapter 3 from the book 'Deep Learning for Coders with fastai & PyTorch'.\n",
    "\n",
    " - questions - question about the chapter\n",
    " - key concepts - summarized key concepts of the chapter\n",
    "\n",
    "::: {.callout-note}\n",
    "## Links \n",
    "\n",
    "- Homepage: [fastai hompage](https://www.fast.ai/)\n",
    "- Online Book: [fastai online book](https://course.fast.ai/Resources/book.html)\n",
    "- Author: [jermey howard](https://jeremy.fast.ai/)\n",
    "- Author: [sylvain gugger](https://sgugger.github.io/)\n",
    ":::"
   ]
  },
  {
   "cell_type": "markdown",
   "metadata": {},
   "source": [
    "# Questions\n",
    "\n",
    "Questions about the chapter. \n",
    "\n",
    "[Questions - Chapter 3 - Data Ethics](subsite/data_ethics_questions.ipynb) "
   ]
  },
  {
   "cell_type": "markdown",
   "metadata": {},
   "source": [
    "# Code\n",
    "\n",
    "No code for this chapter."
   ]
  },
  {
   "cell_type": "markdown",
   "metadata": {},
   "source": [
    "# Key Concepts\n",
    "\n",
    "Summarized key concepts ot this chapter.\n",
    "\n",
    "## Why do Data Ethics Matter?\n",
    "\n",
    "## Topics in Data Ethics\n",
    "\n",
    "## Addressing Ethical Issues\n",
    "\n",
    "## Regulation, Rights and Policy"
   ]
  }
 ],
 "metadata": {
  "kernelspec": {
   "display_name": "FastAi",
   "language": "python",
   "name": "python3"
  },
  "language_info": {
   "codemirror_mode": {
    "name": "ipython",
    "version": 3
   },
   "file_extension": ".py",
   "mimetype": "text/x-python",
   "name": "python",
   "nbconvert_exporter": "python",
   "pygments_lexer": "ipython3",
   "version": "3.9.16"
  },
  "orig_nbformat": 4
 },
 "nbformat": 4,
 "nbformat_minor": 2
}
