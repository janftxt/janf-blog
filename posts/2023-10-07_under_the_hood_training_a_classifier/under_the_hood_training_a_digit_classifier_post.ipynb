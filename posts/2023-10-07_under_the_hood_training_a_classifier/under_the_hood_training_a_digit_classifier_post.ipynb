{
 "cells": [
  {
   "cell_type": "markdown",
   "metadata": {},
   "source": [
    "---\n",
    "title: 'under the hood: training a digit classifier'\n",
    "description: 'fastai book chapter 4'\n",
    "author: \"janf\"\n",
    "date: \"2023-10-07\"\n",
    "date-format: iso\n",
    "image: under_the_hood_training_a_digit_classifier_thumbnail.jpg\n",
    "categories: [fastai, deeplearning, self-study]\n",
    "toc: true\n",
    "draft: true\n",
    "---"
   ]
  },
  {
   "cell_type": "markdown",
   "metadata": {},
   "source": [
    "![fastai book chapter 4 - janf - 2023](under_the_hood_training_a_digit_classifier_thumbnail.jpg){fig-align=\"left\" width=50%}"
   ]
  },
  {
   "cell_type": "markdown",
   "metadata": {},
   "source": [
    "# Intro\n",
    "\n",
    "This my summary of chapter 4 from the book \"Deep Learning for Coders with fastai & PyTorch\".\n",
    "\n",
    " - questions - question about the chapter\n",
    " - key concepts - summarized key concepts of the chapter\n",
    "\n",
    "::: {.callout-note}\n",
    "## Links \n",
    "\n",
    "- Homepage: [fastai hompage](https://www.fast.ai/)\n",
    "- Online Book: [fastai online book](https://course.fast.ai/Resources/book.html)\n",
    "- Author: [jermey howard](https://jeremy.fast.ai/)\n",
    "- Author: [sylvain gugger](https://sgugger.github.io/)\n",
    ":::"
   ]
  },
  {
   "cell_type": "markdown",
   "metadata": {},
   "source": [
    "# Questions\n",
    "\n",
    "Questions about the chapter. \n",
    "\n",
    "[Questions - Chapter 4 - Under the hood: training a digit classifier](subsite/under_the_hood_training_a_digit_classifier_questions.ipynb) "
   ]
  },
  {
   "cell_type": "markdown",
   "metadata": {},
   "source": [
    "# Code\n",
    "\n",
    "x"
   ]
  },
  {
   "cell_type": "markdown",
   "metadata": {},
   "source": [
    "# Key Concepts\n",
    "\n",
    "Summarized key concepts ot this chapter.\n",
    "\n",
    "## NumPy Arrays and PyTorchTensors\n",
    "\n",
    "NumPy is the most widely used library for scientific and numeric programming in Python. A NumPy array is multidimensional table of data, with all items of the same type. Since that can be any type at all, they can even be arrays of arrays. \n",
    "\n",
    "Multidimensional tables are:\n",
    "- 1-dimensional tensor/array is called a vector\n",
    "- 2-dimensional tensor/array is called a matrix\n",
    "- 3-dimensional or more tensor/array is called a tensor\n",
    "\n",
    "\n",
    "## Broadcasting\n",
    "\n",
    "## Stochastic Gradient Decent\n",
    "\n",
    "## Loss Function\n",
    "\n",
    "## Optimizers\n",
    "\n",
    "## Nonlinearity\n",
    "\n",
    "## Machine Learning Jargon"
   ]
  }
 ],
 "metadata": {
  "kernelspec": {
   "display_name": "FastAi",
   "language": "python",
   "name": "python3"
  },
  "language_info": {
   "codemirror_mode": {
    "name": "ipython",
    "version": 3
   },
   "file_extension": ".py",
   "mimetype": "text/x-python",
   "name": "python",
   "nbconvert_exporter": "python",
   "pygments_lexer": "ipython3",
   "version": "3.9.16"
  }
 },
 "nbformat": 4,
 "nbformat_minor": 2
}
