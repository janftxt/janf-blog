{
 "cells": [
  {
   "cell_type": "markdown",
   "metadata": {},
   "source": [
    "---\n",
    "title: 'karpathy micrograd'\n",
    "description: 'a tiny scalar-valued autograd engine and a neural net libarary on top of it with PyTorch-like API'\n",
    "author: \"janf\"\n",
    "date: \"2024-03-28\"\n",
    "date-format: iso\n",
    "image: micrograd_thumbnail.jpg\n",
    "categories: [karpathy, deeplearning, self-study]\n",
    "toc: true\n",
    "draft: false\n",
    "---"
   ]
  },
  {
   "cell_type": "markdown",
   "metadata": {},
   "source": [
    "![karpathy micrograd - janf - 2024](.){fig-align=\"left\" width=50%}"
   ]
  }
 ],
 "metadata": {
  "kernelspec": {
   "display_name": "FastAi",
   "language": "python",
   "name": "python3"
  },
  "language_info": {
   "name": "python",
   "version": "3.9.16"
  }
 },
 "nbformat": 4,
 "nbformat_minor": 2
}
